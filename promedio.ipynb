{
 "cells": [
  {
   "cell_type": "markdown",
   "metadata": {},
   "source": [
    "\n",
    "\n",
    "Valor medio o promedio de los elementos de un vector\n",
    "\n",
    "\n",
    "el argumento V debe ser un vector fila, con sus argumentos siendo números reales\n",
    ""
   ]
  },
  {
   "cell_type": "code",
   "execution_count": 1,
   "metadata": {},
   "source": [
    "function Promedio = promedio(V)\n",
    "    arguments\n",
    "        V (1,:) {mustBeNumeric,mustBeReal}\n",
    "    end\n",
    "Promedio = sum(V)/length(V);\n",
    "end"
   ],
   "outputs": []
}
 ],
 "metadata": {
  "kernelspec": {
   "display_name": "MATLAB (matlabkernel)",
   "language": "matlab",
   "name": "matlab"
  },
  "language_info": {
   "file_extension": ".m",
   "mimetype": "text/matlab",
   "name": "matlab",
   "nbconvert_exporter": "matlab",
   "pygments_lexer": "matlab",
   "version": "23.2.0.2515942"
  }
 },
 "nbformat": 4,
 "nbformat_minor": 4
}