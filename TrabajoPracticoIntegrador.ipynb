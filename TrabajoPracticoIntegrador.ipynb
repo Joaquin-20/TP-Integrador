{
 "cells": [
  {
   "cell_type": "markdown",
   "metadata": {},
   "source": [
    "\n",
    "# <span style=\"color:rgb(213,80,0)\">Trabajo practico integrador</span>\n",
    "\n",
    "<img src=\"TrabajoPracticoIntegrador_media/image_0.png\" width=\"541\" alt=\"image_0.png\">\n",
    "\n",
    "#### Evolucion de la temperatura a lo largo de la barra de acero en el tiempo"
   ]
  },
  {
   "cell_type": "code",
   "execution_count": 1,
   "metadata": {},
   "source": [
    "T = importdata('TempMed.mat');\n",
    "n = length(T(:,1));\n",
    "x = 0:0.05:1;\n",
    "\n",
    "for i = 1:n\n",
    "    plot(x,T(i,:),'r*')\n",
    "    title(sprintf('Temperatura en el min %d',i-1))\n",
    "    xlabel('Coordenada x (m)')\n",
    "    ylabel('Temperatura (°C)')\n",
    "    grid on\n",
    "    ylim([500 1500])\n",
    "    pause(0.2)\n",
    "end"
   ],
   "outputs": [
    {
     "data": {
      "text/html": [
       "<center><img src=\"TrabajoPracticoIntegrador_media/figure_0.png\" width=\"562\" alt=\"figure_0.png\"></center>"
      ]
     },
     "metadata": {},
     "execution_count":  1,
     "output_type": "execute_result"
    }
   ]
  },
  {
   "cell_type": "markdown",
   "metadata": {},
   "source": [
    "#### Temperatura promedio de la barra en el tiempo"
   ]
  },
  {
   "cell_type": "code",
   "execution_count": 2,
   "metadata": {},
   "source": [
    "T = importdata('TempMed.mat');\n",
    "n = length(T(:,1));\n",
    "x = 0:0.05:1;\n",
    "t = 0:60:3600;\n",
    "\n",
    "[xx,tt] = meshgrid(x,t);\n",
    "clf\n",
    "for i = 1:n\n",
    "    TemperaturaPromedio = promedio(T(i,:));\n",
    "    hold on\n",
    "    plot(i,TemperaturaPromedio,'bo')\n",
    "    xlabel('Tiempo transcurrido (min)')\n",
    "    ylabel('Temperatura promedio (°C)')\n",
    "    hold off\n",
    "end"
   ],
   "outputs": [
    {
     "data": {
      "text/html": [
       "<center><img src=\"TrabajoPracticoIntegrador_media/figure_1.png\" width=\"562\" alt=\"figure_1.png\"></center>"
      ]
     },
     "metadata": {},
     "execution_count":  2,
     "output_type": "execute_result"
    }
   ]
  },
  {
   "cell_type": "markdown",
   "metadata": {},
   "source": [
    "#### Grafico 3D de la temperatura [°C] en funcion del tiempo [s] y el largo de la barra [m]"
   ]
  },
  {
   "cell_type": "code",
   "execution_count": 3,
   "metadata": {},
   "source": [
    "surf(xx,tt,T)\n",
    "xlabel('cordenada x (m)')\n",
    "ylabel('Tiempo transcurrido (s)')\n",
    "zlabel('Temperatura (°C)')"
   ],
   "outputs": [
    {
     "data": {
      "text/html": [
       "<center><img src=\"TrabajoPracticoIntegrador_media/figure_2.png\" width=\"562\" alt=\"figure_2.png\"></center>"
      ]
     },
     "metadata": {},
     "execution_count":  3,
     "output_type": "execute_result"
    }
   ]
  },
  {
   "cell_type": "markdown",
   "metadata": {},
   "source": [
    "## Ajuste discreto\n",
    "\n",
    "A diferencia de un ajuste lineal, donde la funcion de ajuste es la ecuacion de una recta, o en el caso de dos variables, de un plano $\\mathrm{F}\\left(x,y\\right)=\\beta_{0\\;} +\\beta_1 *x_i \\;+\\beta_2 *\\textrm{yi}\\;$ , se propone la función de ajuste: $T\\left(x,t\\right)=c_1 +400\\cos \\left(c_2 x\\right)e^{-\\lambda 4\\pi 2t} +100\\cos \\left(\\frac{4\\pi *x}{L}\\right)e^{-c_3 t} \\;\\left\\lbrack \\textrm{◦C}\\right\\rbrack$ que predice la temperatura a lo largo de la barra para cada instante de tiempo, pero se desconocen las constantes $c_1 ,c_2 \\;y\\;c_3$\n",
    "\n",
    "\n",
    "Se buscaran valores para $c_1 ,c_2 \\;y\\;c_3$ que minimicen el error cuadratico medio (ECM).\n",
    "\n",
    "\n",
    "$$\\textrm{ECM}=\\frac{\\sum_{i\\;=\\;1}^{61} \\sum_{j\\;=\\;1}^{21} {\\left\\lbrack {\\mathbf{T}}_{i,j} -\\mathbf{T}\\left(x_j ,t_i ,c_1 ,c_2 ,c_3 \\right)\\right\\rbrack }^2 }{61*21}=\\sum_{i\\;=\\;1}^{61} \\sum_{j\\;=\\;1}^{21} \\frac{\\left\\lbrack {\\mathrm{T}}_{i,j} -c_1 -400\\cos \\left(c_2 x_j \\right)*e^{-\\lambda 4\\pi^2 t_i } -100\\cos \\left(\\frac{4\\pi *x_j }{L}\\right)*e^{-c_3 t_i } \\right\\rbrack }{1281}$$\n",
    "\n",
    "Los $c_1 ,c_2 \\;y\\;c_3$ que minimicen el ECM, seran los que satisfagan el siguiente sistema de ecuaciones:\n",
    "\n",
    "\n",
    "$$f_1 \\;=\\;\\frac{\\partial }{\\partial c_1 }\\textrm{ECM}\\;=\\sum_{i\\;=\\;1}^{61} \\sum_{j\\;=\\;1}^{21} \\frac{-2*\\left\\lbrack {\\mathrm{T}}_{i,j} -c_1 -400\\cos \\left(c_2 x_j \\right)*e^{-\\lambda 4\\pi^2 t_i } -100\\cos \\left(\\frac{4\\pi *x_j }{L}\\right)*e^{-c_3 t_i } \\right\\rbrack }{1281}=0$$\n",
    "\n",
    "$$f_2 \\;=\\;\\frac{\\partial }{\\partial c_2 }\\textrm{ECM}\\;=\\sum_{i\\;=\\;1}^{61} \\sum_{j\\;=\\;1}^{21} \\frac{800x_j *\\textrm{sen}\\left(c_2 x_j \\right)*e^{-\\lambda 4\\pi^2 t_i } *\\left\\lbrack {\\mathrm{T}}_{i,j} -c_1 -400\\cos \\left(c_2 x_j \\right)*e^{-\\lambda 4\\pi^2 t_i } -100\\cos \\left(\\frac{4\\pi *x_j }{L}\\right)*e^{-c_3 t_i } \\right\\rbrack }{1281}=0$$\n",
    "\n",
    "$$f_3 \\;=\\;\\frac{\\partial }{\\partial c_3 }\\textrm{ECM}\\;=\\sum_{i\\;=\\;1}^{61} \\sum_{j\\;=\\;1}^{21} \\frac{200t_i *\\cos \\left(\\frac{4\\pi *x_j }{L}\\right)*e^{-c_3 t_i } *\\left\\lbrack {\\mathrm{T}}_{i,j} -c_1 -400\\cos \\left(c_2 x_j \\right)*e^{-\\lambda 4\\pi^2 t_i } -100\\cos \\left(\\frac{4\\pi *x_j }{L}\\right)*e^{-c_3 t_i } \\right\\rbrack }{1281}=0$$\n",
    "\n",
    "\n",
    "Este sistema de ecuaciones no lineales se puede resolver mediante el método de Newton Raphson para sistemas de ecuaciones de la siguiente manera:\n",
    "\n",
    "\n",
    "$$\\left\\lbrack \\begin{array}{c} c_{1,k+1} \\\\ c_{2,k+1} \\\\ c_{3,k+1}  \\end{array}\\right\\rbrack \\approx \\left\\lbrack \\begin{array}{c} c_{1,k} \\\\ c_{2,k} \\\\ c_{3,k}  \\end{array}\\right\\rbrack -\\Delta C$$\n",
    "\n",
    "$$\\;\\Delta C={\\left\\lbrack \\begin{array}{ccc} \\frac{\\partial }{\\partial c_1 }f_1 |_{\\left(c_{1,k} ,c_{2,k} ,c_{3,k} \\right)}  & \\frac{\\partial }{\\partial c_2 }f_1 |_{\\left(c_{1,k} ,c_{2,k} ,c_{3,k} \\right)}  & \\frac{\\partial }{\\partial c_3 }f_1 |_{\\left(c_{1,k} ,c_{2,k} ,c_{3,k} \\right)} \\\\ \\frac{\\partial }{\\partial c_1 }f_2 |_{\\left(c_{1,k} ,c_{2,k} ,c_{3,k} \\right)}  & \\frac{\\partial }{\\partial c_2 }f_2 |_{\\left(c_{1,k} ,c_{2,k} ,c_{3,k} \\right)}  & \\frac{\\partial }{\\partial c_3 }f_2 |_{\\left(c_{1,k} ,c_{2,k} ,c_{3,k} \\right)} \\\\ \\frac{\\partial }{\\partial c_1 }f_3 |_{\\left(c_{1,k} ,c_{2,k} ,c_{3,k} \\right)}  & \\frac{\\partial }{\\partial c_2 }f_3 |_{\\left(c_{1,k} ,c_{2,k} ,c_{3,k} \\right)}  & \\frac{\\partial }{\\partial c_3 }f_3 |_{\\left(c_{1,k} ,c_{2,k} ,c_{3,k} \\right)}  \\end{array}\\right\\rbrack }^{-1} *\\left\\lbrack \\begin{array}{c} f_1 \\left(c_{1,k} ,c_{2,k} ,c_{3,k} \\right)\\\\ f_2 \\left(c_{1,k} ,c_{2,k} ,c_{3,k} \\right)\\\\ f_3 \\left(c_{1,k} ,c_{2,k} ,c_{3,k} \\right) \\end{array}\\right\\rbrack$$\n",
    "\n",
    "La forma de calcular una derivada parcial numericamente es:\n",
    "\n",
    "\n",
    "$$\\frac{\\partial }{\\partial x_j }f_i \\approx \\frac{f_i \\left(x_1 ,\\ldotp \\ldotp \\ldotp ,x_j +\\sigma x_j ,\\ldotp \\ldotp \\ldotp ,x_n \\right)-f_i \\left(x_1 ,\\ldotp \\ldotp \\ldotp ,x_j ,\\ldotp \\ldotp \\ldotp ,x_n \\right)}{\\sigma x_j }$$\n",
    "\n",
    "donde $\\sigma x_j$ es un valor pequeño elegido arbitrariamente\n",
    "\n",
    "\n",
    "Además es bueno tener buenas aproccimaciones iniciales, Para esto se puede probar con distintos valores de $c_1 ,c_2 \\;\\mathrm{y}\\;c_3$ hasta que la función $T\\left(x,t\\right)=c_1 +400\\cos \\left(c_2 x\\right)*e^{-\\lambda 4\\pi 2t} +100\\cos \\left(\\frac{4\\pi *x}{L}\\right)*e^{-c_3 t} \\;\\left\\lbrack \\textrm{◦C}\\right\\rbrack$ aproxime los datos obtenidos empiricamente.\n",
    ""
   ]
  },
  {
   "cell_type": "code",
   "execution_count": 4,
   "metadata": {},
   "source": [
    "T = importdata('TempMed.mat');\n",
    "n = length(T(:,1));\n",
    "x = 0:0.05:1;\n",
    "t = 0:60:3600;\n",
    "L = 1;\n",
    "alfa = 22.8*10^(-6);\n",
    "lamda = alfa/L^2;\n",
    "\n",
    "c1 =900;\n",
    "c2 =999;\n",
    "c3 = 0.16;\n",
    "\n",
    "Temp = @(x,t) c1 + 400.*cos(c2.*x).*exp(-lamda.*4.*t.*pi.^2) + 100.*cos(4.*pi.*x./L).*exp(-c3.*t);\n",
    "\n",
    "for i = 1:length(t)\n",
    "    hold on\n",
    "    plot(x,Temp(x,t(i)))\n",
    "    plot(x,T(i,:),'r*')\n",
    "    ylim([500 1500])\n",
    "    hold off\n",
    "    pause(0.2)\n",
    "    if i ~= length(t)\n",
    "        clf\n",
    "    end\n",
    "end"
   ],
   "outputs": [
    {
     "data": {
      "text/html": [
       "<center><img src=\"TrabajoPracticoIntegrador_media/figure_3.png\" width=\"562\" alt=\"figure_3.png\"></center>"
      ]
     },
     "metadata": {},
     "execution_count":  4,
     "output_type": "execute_result"
    }
   ]
  },
  {
   "cell_type": "code",
   "execution_count": 5,
   "metadata": {},
   "source": [
    "J = zeros(3); % inicialización de la matriz de jacobianos\n",
    "F = zeros(3,1); % inicialización del vector de funciones\n",
    "\n",
    "dc1 = 0.01;\n",
    "dc2 = 0.01;\n",
    "dc3 = 0.01;\n",
    "Contador = 0;\n",
    "\n",
    "Tol = 530;\n",
    "NMax = 200;\n",
    "ECM = inf; % Solo para que se ejecute el bucle while por lo menos una vez\n",
    "\n",
    "while ECM >= Tol && Contador < NMax\n",
    "    for i = 1:61\n",
    "        for j = 1:21\n",
    "\n",
    "            % Terminos generales de las sumatorias\n",
    "            f1 = @(c1,c2,c3) ((-2*(T(i,j) - c1 - 400*cos(c2*x(j))*exp(-lamda*pi^2*4*t(i)) - 100*cos(4*pi*x(j)/L)*exp(-c3*t(i))))/1281);\n",
    "            f2 = @(c1,c2,c3) (800*x(j).*exp(-lamda*pi^2*4*t(i))*sin(c2*x(j))*(T(i,j) - c1 - 400*cos(c2*x(j))*exp(-lamda*pi^2*4*t(i)) - 100*cos(4*pi*x(j)/L)*exp(-c3*t(i))))/1281;\n",
    "            f3 = @(c1,c2,c3) (200*t(i)*cos(4*pi*x(j)/L)*exp(-c3*t(i))*(T(i,j) - c1 - 400*cos(c2*x(j))*exp(-lamda*pi^2*4*t(i)) - 100*cos(4*pi*x(j)/L)*exp(-c3*t(i))))/1281;\n",
    "\n",
    "            %%%%%%%%%%%%%%%%% Matriz de jacobianos %%%%%%%%%%%%%%%%%%%\n",
    "            J(1,1) = J(1,1) + (f1(c1 + dc1,c2,c3) - f1(c1,c2,c3))/dc1;\n",
    "            J(1,2) = J(1,2) + (f1(c1,c2 + dc2,c3) - f1(c1,c2,c3))/dc2;\n",
    "            J(1,3) = J(1,3) + (f1(c1,c2,c3 + dc3) - f1(c1,c2,c3))/dc3;\n",
    "            J(2,1) = J(2,1) + (f2(c1 + dc1,c2,c3) - f2(c1,c2,c3))/dc1;\n",
    "            J(2,2) = J(2,2) + (f2(c1,c2 + dc2,c3) - f2(c1,c2,c3))/dc2;\n",
    "            J(2,3) = J(2,3) + (f2(c1,c2,c3 + dc3) - f2(c1,c2,c3))/dc3;\n",
    "            J(3,1) = J(3,1) + (f3(c1 + dc1,c2,c3) - f3(c1,c2,c3))/dc1;\n",
    "            J(3,2) = J(3,2) + (f3(c1,c2 + dc2,c3) - f3(c1,c2,c3))/dc2;\n",
    "            J(3,3) = J(3,3) + (f3(c1,c2,c3 + dc3) - f3(c1,c2,c3))/dc3;\n",
    "            %%%%%%%%%%%%%%%%%%%%%%%%%%%%%%%%%%%%%%%%%%%%%%%%%%%%%%%%%%\n",
    "\n",
    "            %%% Vector de funciones %%%\n",
    "            F(1) = F(1) + f1(c1,c2,c3);\n",
    "            F(2) = F(2) + f2(c1,c2,c3);\n",
    "            F(3) = F(3) + f3(c1,c2,c3);\n",
    "            %%%%%%%%%%%%%%%%%%%%%%%%%%%\n",
    "        end\n",
    "    end\n",
    "\n",
    "    %fprintf('########## Inicio de la iteracion %d ##########',Contador + 1)\n",
    "    J;\n",
    "    F;\n",
    "    dC = J\\F;\n",
    "    c1k = c1;\n",
    "    c2k = c2;\n",
    "    c3k = c3;\n",
    "    c1 = c1 - dC(1);\n",
    "    c2 = c2 - dC(2);\n",
    "    c3 = c3 - dC(3);\n",
    "    dc1 = c1 -c1k;\n",
    "    dc2 = c2 - c2k;\n",
    "    dc3 = c3 -c3k;\n",
    "    Contador = Contador + 1;\n",
    "\n",
    "    % Cálculo del error cuadratico medio\n",
    "    Temp = @(x,t) c1 + 400.*cos(c2.*x).*exp(-lamda.*4.*t.*pi.^2) + 100.*cos(4.*pi.*x./L).*exp(-c3.*t);\n",
    "    ECM = 0; % inicialización del error cuadratico medio\n",
    "    for i = 1:61\n",
    "        for j = 1:21\n",
    "            ECM =  ECM + (Temp(x(j),t(i)) - T(i,j))^2/1281;\n",
    "        end\n",
    "    end\n",
    "    %ECM\n",
    "    %fprintf('##############################################')\n",
    "\n",
    "    VectorC1(Contador) = c1;\n",
    "    VectorC2(Contador) = c2;\n",
    "    VectorC3(Contador) = c3;\n",
    "    VectorContador(Contador) = Contador;\n",
    "\n",
    "    if Contador == NMax\n",
    "        disp('Se llego al numero maximo de iteraciones')\n",
    "    end\n",
    "end"
   ],
   "outputs": [
    {
     "data": {
      "text/plain": [
       "Se llego al numero maximo de iteraciones"
      ]
     },
     "metadata": {},
     "execution_count":  5,
     "output_type": "execute_result"
    }
   ]
  },
  {
   "cell_type": "code",
   "execution_count": 6,
   "metadata": {},
   "source": [
    "plot(VectorContador,VectorC1,'bo')\n",
    "title('Evolucion de valores de C1')\n",
    "ylabel('Valores de C1')\n",
    "xlabel('Numero de iteracion')"
   ],
   "outputs": [
    {
     "data": {
      "text/html": [
       "<center><img src=\"TrabajoPracticoIntegrador_media/figure_4.png\" width=\"562\" alt=\"figure_4.png\"></center>"
      ]
     },
     "metadata": {},
     "execution_count":  6,
     "output_type": "execute_result"
    }
   ]
  },
  {
   "cell_type": "code",
   "execution_count": 7,
   "metadata": {},
   "source": [
    "\n",
    "plot(VectorContador,VectorC2,'gs')\n",
    "title('Evolucion de valores de C2')\n",
    "ylabel('Valores de C2')\n",
    "xlabel('Numero de iteracion')"
   ],
   "outputs": [
    {
     "data": {
      "text/html": [
       "<center><img src=\"TrabajoPracticoIntegrador_media/figure_5.png\" width=\"562\" alt=\"figure_5.png\"></center>"
      ]
     },
     "metadata": {},
     "execution_count":  7,
     "output_type": "execute_result"
    }
   ]
  },
  {
   "cell_type": "code",
   "execution_count": 8,
   "metadata": {},
   "source": [
    "\n",
    "plot(VectorContador,VectorC3,'r*')\n",
    "title('Evolucion de valores de C3')\n",
    "ylabel('Valores de C3')\n",
    "xlabel('Numero de iteracion')"
   ],
   "outputs": [
    {
     "data": {
      "text/html": [
       "<center><img src=\"TrabajoPracticoIntegrador_media/figure_6.png\" width=\"562\" alt=\"figure_6.png\"></center>"
      ]
     },
     "metadata": {},
     "execution_count":  8,
     "output_type": "execute_result"
    }
   ]
  },
  {
   "cell_type": "markdown",
   "metadata": {},
   "source": [
    "#### Grafica del ajuste\n",
    "\n",
    "Una ves obtenidas las aproccimaciones de $c_1 ,c_2 \\;\\mathrm{y}\\;c_3$ podemos graficar $\\mathrm{T}\\left(x,t\\right)$\n",
    ""
   ]
  },
  {
   "cell_type": "code",
   "execution_count": 9,
   "metadata": {},
   "source": [
    "[xx,tt] = meshgrid(x,t);\n",
    "surf(xx,tt,Temp(xx,tt)) ;"
   ],
   "outputs": [
    {
     "data": {
      "text/html": [
       "<center><img src=\"TrabajoPracticoIntegrador_media/figure_7.png\" width=\"562\" alt=\"figure_7.png\"></center>"
      ]
     },
     "metadata": {},
     "execution_count":  9,
     "output_type": "execute_result"
    }
   ]
  },
  {
   "cell_type": "markdown",
   "metadata": {},
   "source": [
    "\n",
    "Tambien podemos calcular el error cuadratico medio\n",
    ""
   ]
  },
  {
   "cell_type": "code",
   "execution_count": 10,
   "metadata": {},
   "source": [
    "fprintf('Error cuadratico medio del ajuste\\nECM = %d',ECM)"
   ],
   "outputs": [
    {
     "data": {
      "text/plain": [
       "Error cuadratico medio del ajuste\n",
       "ECM = 5.356591e+02"
      ]
     },
     "metadata": {},
     "execution_count":  10,
     "output_type": "execute_result"
    }
   ]
  },
  {
   "cell_type": "markdown",
   "metadata": {},
   "source": [
    "## Ecuacion diferencial en derivadas parciales\n",
    "#### Metodo de diferencias finitas\n",
    "\n",
    "Fisicamente, la evolucion de la temperatura a lo largo de la barra en el tiempo, esta dada por la ecuación de conducción de calor\n",
    "\n",
    "\n",
    " $\\frac{\\partial }{\\partial t}\\mathrm{T}=\\lambda \\frac{\\partial^2 }{\\partial x^2 }\\mathrm{T}$           con $\\lambda =\\frac{\\alpha }{L^2 }$\n",
    "\n",
    "\n",
    "sindo $\\alpha$ el coeficiente de difusividad térmica del acero $\\left(22\\ldotp 8*{10}^{-6} \\;\\frac{m^2 }{s}\\right)$ y $L$ la longitud de la barra $\\left(1m\\right)$ .\n",
    "\n",
    "\n",
    "Se tiene como condicion inicial para $t=0$ que $\\mathrm{T}\\left(x,0\\right)=600+800*\\cos^4 \\left(\\frac{\\pi *x}{L}\\right)$ y las condiciones de contorno $\\frac{\\partial }{\\partial x}\\mathrm{T}|_{x=0} =0$ y $\\frac{\\partial }{\\partial x}\\mathrm{T}|_{x=L} =0$ .\n",
    "\n",
    "\n",
    "Resolveremos esta ecuacion diferencial mediante el metodo de diferencias finitas, en concreto, el metodo explícito. Para esto usaremos las aproximaciones de primer orden; centrada para la derivada espacial y adelantada para la derivada temporal\n",
    "\n",
    "\n",
    "$$\\frac{\\partial^2 }{\\partial x^2 }\\mathrm{T}=\\frac{{\\mathrm{T}}_{i,j+1} -2{\\mathrm{T}}_{i,j} +{\\mathrm{T}}_{i,j-1} }{\\Delta x^2 }$$\n",
    "\n",
    "$$\\frac{\\partial }{\\partial t}\\mathrm{T}=\\frac{{\\mathrm{T}}_{i+1,j} -{\\mathrm{T}}_{i,j} }{\\Delta t}$$\n",
    "\n",
    "donde el indice $i$ representa un instante de tiempo y $j$ una pequeña parte de la barra.\n",
    "\n",
    "\n",
    "Remplazando estas aproximaciones en la ecuacion diferencial se tiene:\n",
    "\n",
    "\n",
    "$$\\frac{{\\mathrm{T}}_{i+1,j} -{\\mathrm{T}}_{i,j} }{\\Delta t}=\\lambda *\\frac{{\\mathrm{T}}_{i,j+1} -2{\\mathrm{T}}_{i,j} +{\\mathrm{T}}_{i,j-1} }{\\Delta x^2 }$$\n",
    "\n",
    "Despejando la temperatura en el proximo instante de tiempo ${\\mathrm{T}}_{i+1,j}$ , se llega a la exprecion:\n",
    "\n",
    "\n",
    "$${\\mathrm{T}}_{i+1,j} ={\\mathrm{T}}_{i,j} +\\frac{\\lambda *\\Delta t}{\\Delta x^2 }*\\left({\\mathrm{T}}_{i,j+1} -2{\\mathrm{T}}_{i,j} +{\\mathrm{T}}_{i,j-1} \\right)$$\n",
    "\n",
    "Notar que con esta expresion no se puede calcular la temperatura en los extremos de la barra para cada instante de tiempo. Cuando estás en el primer $j$ , no hay un ${\\mathrm{T}}_{i,j-1}$ , de la misma forma que cuando estás en el ultimo $j$ ,  no hay un ${\\mathrm{T}}_{i,j+1}$ .\n",
    "\n",
    "\n",
    "La temperatura en los extremos la podemos inferir a partir de las condiciones de borde $\\frac{\\partial }{\\partial x}\\mathrm{T}|_{x=0} =0$ y $\\frac{\\partial }{\\partial x}\\mathrm{T}|_{x=L} =0$ . Estas condiciones lo que dicen es que no hay transferencia de calor entre los extremos de la barra y la parte de la barra adyacente a los mismos, por lo que deben estar necesariamente a la misma temperatura.\n",
    "\n",
    "\n",
    "si $j=1,2,3,4,\\ldotp \\ldotp \\ldotp ,n$ entoncen ${\\mathrm{T}}_{i,1} ={\\mathrm{T}}_{i,2}$ y ${\\mathrm{T}}_{i,n} ={\\mathrm{T}}_{i,n-1}$\n",
    "\n",
    "#### Convergecia y estabilidad\n",
    "\n",
    "Convergencia significa que conforme $\\Delta x$ y $\\Delta t$ tienden a cero, los resultados del metodo de diferencias finitas se aproximarán a la solucion verdadera. Estabilidad significa que los errores en cualquier estapa del calculo no se amplifican, sino que se atenúan comforme avanza el cálculo.\n",
    "\n",
    "\n",
    "Existen diferentes métodos para determinar el crecimiento en el tiempo del error en el proceso de cálculo de la solución. Si el error no crece con el tiempo, el método es estable.\n",
    "\n",
    "\n",
    "Segun el criterio de Von Newman el metodo explícito es convergente y estable si\n",
    "\n",
    "\n",
    "$$\\Delta t\\le \\frac{1}{2}*\\frac{{\\Delta x}^2 }{\\lambda }$$\n",
    "\n",
    "para un $\\Delta x=0,05\\;m$ se tiene\n",
    "\n",
    "\n",
    "$$\\Delta t\\le \\frac{1}{2}*0,\\frac{{\\left(0,05\\;\\right)}^2 }{22,8*{10}^{-6} }=54,8245614$$\n",
    "\n",
    "Elijo $\\Delta t=30\\;s$ , ya que cumple con el criterio\n",
    ""
   ]
  },
  {
   "cell_type": "code",
   "execution_count": 11,
   "metadata": {},
   "source": [
    "T = importdata('TempMed.mat');\n",
    "alfa = 22.8*10^(-6);\n",
    "L = 1;\n",
    "lamda = alfa/L^2;\n",
    "\n",
    "dx = 0.05; % Elegido arbitrariamente\n",
    "dt = 30; % Tiene que satisfacer el criterio de Von Newman\n",
    "x = 0:dx:1;\n",
    "t = 0:dt:3600;\n",
    "\n",
    "TempInicial = @(x) 600 + 800*(cos(pi*x/L).^4);\n",
    "\n",
    "Tsol = zeros(length(t),length(x));\n",
    "Tsol(1,:) = TempInicial(x);\n",
    "for i = 1:length(t) - 1 % Filas\n",
    "    for j = 2:length(x) - 1 % Columnas\n",
    "        Tsol(i + 1,j) = Tsol(i,j) + (lamda*dt)/(dx^2)*(Tsol(i,j+1) - 2*Tsol(i,j) + Tsol(i,j-1));\n",
    "    end\n",
    "    % Condiciones de borde\n",
    "    Tsol(i + 1,1) = Tsol(i+1,2);\n",
    "    Tsol(i + 1,end) = Tsol(i+1,end-1);\n",
    "end"
   ],
   "outputs": []
  },
  {
   "cell_type": "markdown",
   "metadata": {},
   "source": [
    "#### Grafica de la solucion\n",
    "\n",
    "Una vez calculado numericamente la solucion de la ecuacion diferencial, podemos graficarla\n",
    ""
   ]
  },
  {
   "cell_type": "code",
   "execution_count": 12,
   "metadata": {},
   "source": [
    "[xx,tt] = meshgrid(x,t);\n",
    "surf(xx,tt,Tsol)"
   ],
   "outputs": [
    {
     "data": {
      "text/html": [
       "<center><img src=\"TrabajoPracticoIntegrador_media/figure_8.png\" width=\"562\" alt=\"figure_8.png\"></center>"
      ]
     },
     "metadata": {},
     "execution_count":  12,
     "output_type": "execute_result"
    }
   ]
  },
  {
   "cell_type": "markdown",
   "metadata": {},
   "source": [
    "\n",
    "Tambien podemos calcular el error cuadratico medio\n",
    ""
   ]
  },
  {
   "cell_type": "code",
   "execution_count": 13,
   "metadata": {},
   "source": [
    "ECM = 0; % inicialización del error cuadratico medio\n",
    "if dt == 30\n",
    "    for i = 1:61\n",
    "        for j = 1:21\n",
    "            ECM =  ECM + (Tsol(2*i-1,j) - T(i,j))^2/1281;\n",
    "        end\n",
    "    end\n",
    "elseif dt == 20\n",
    "    for i = 1:61\n",
    "        for j = 1:21\n",
    "            ECM =  ECM + (Tsol(3*i-2,j) - T(i,j))^2/1281;\n",
    "        end\n",
    "    end\n",
    "elseif dt == 10\n",
    "    for i = 1:61\n",
    "        for j = 1:21\n",
    "            ECM =  ECM + (Tsol(6*i-5,j) - T(i,j))^2/1281;\n",
    "        end\n",
    "    end\n",
    "else\n",
    "    disp('dt no es valido')\n",
    "end\n",
    "fprintf('Error cuadratico medio de la solucion a la ecuacion de conducción de calor\\nECM = %d',ECM)"
   ],
   "outputs": [
    {
     "data": {
      "text/plain": [
       "Error cuadratico medio de la solucion a la ecuacion de conducción de calor\n",
       "ECM = 1.030581e+03"
      ]
     },
     "metadata": {},
     "execution_count":  13,
     "output_type": "execute_result"
    }
   ]
  }
 ],
 "metadata": {
  "kernelspec": {
   "display_name": "MATLAB (matlabkernel)",
   "language": "matlab",
   "name": "matlab"
  },
  "language_info": {
   "file_extension": ".m",
   "mimetype": "text/matlab",
   "name": "matlab",
   "nbconvert_exporter": "matlab",
   "pygments_lexer": "matlab",
   "version": "23.2.0.2515942"
  }
 },
 "nbformat": 4,
 "nbformat_minor": 4
}