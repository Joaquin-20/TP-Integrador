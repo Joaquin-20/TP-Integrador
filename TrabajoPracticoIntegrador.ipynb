{
 "cells": [
  {
   "cell_type": "code",
   "execution_count": 1,
   "metadata": {},
   "source": [
    "T = importdata('TempMed.mat');\n",
    "n = length(T(:,1));\n",
    "x = 0:0.05:1;"
   ],
   "outputs": []
  },
  {
   "cell_type": "markdown",
   "metadata": {},
   "source": [
    "\n",
    "<img src=\"TrabajoPracticoIntegrador_media/image_0.png\" width=\"541\" alt=\"image_0.png\">\n",
    "\n",
    "#### Evolucion de la temperatura a lo largo de la barra de acero en el tiempo"
   ]
  },
  {
   "cell_type": "code",
   "execution_count": 2,
   "metadata": {},
   "source": [
    "for i = 1:n\n",
    "    plot(x,T(i,:),'r*')\n",
    "    title(sprintf('Temperatura en el min %d',i-1))\n",
    "    xlabel('Cordenada x(m)')\n",
    "    ylabel('Temperatura(°C)')\n",
    "    grid on\n",
    "    ylim([500 1500])\n",
    "    pause(1 -0.6)\n",
    "end"
   ],
   "outputs": [
    {
     "data": {
      "text/html": [
       "<center><img src=\"TrabajoPracticoIntegrador_media/figure_0.png\" width=\"562\" alt=\"figure_0.png\"></center>"
      ]
     },
     "metadata": {},
     "execution_count":  2,
     "output_type": "execute_result"
    }
   ]
  },
  {
   "cell_type": "code",
   "execution_count": 3,
   "metadata": {},
   "source": [
    "clf\n",
    "for i = 1:n\n",
    "    TemperaturaPromedio = promedio(T(i,:));\n",
    "    hold on\n",
    "    plot(i,TemperaturaPromedio,'bo')\n",
    "    hold off\n",
    "end"
   ],
   "outputs": [
    {
     "data": {
      "text/html": [
       "<center><img src=\"TrabajoPracticoIntegrador_media/figure_1.png\" width=\"562\" alt=\"figure_1.png\"></center>"
      ]
     },
     "metadata": {},
     "execution_count":  3,
     "output_type": "execute_result"
    }
   ]
  },
  {
   "cell_type": "code",
   "execution_count": 4,
   "metadata": {},
   "source": [
    "surf(T)"
   ],
   "outputs": [
    {
     "data": {
      "text/html": [
       "<center><img src=\"TrabajoPracticoIntegrador_media/figure_2.png\" width=\"562\" alt=\"figure_2.png\"></center>"
      ]
     },
     "metadata": {},
     "execution_count":  4,
     "output_type": "execute_result"
    }
   ]
  }
 ],
 "metadata": {
  "kernelspec": {
   "display_name": "MATLAB (matlabkernel)",
   "language": "matlab",
   "name": "matlab"
  },
  "language_info": {
   "file_extension": ".m",
   "mimetype": "text/matlab",
   "name": "matlab",
   "nbconvert_exporter": "matlab",
   "pygments_lexer": "matlab",
   "version": "23.2.0.2515942"
  }
 },
 "nbformat": 4,
 "nbformat_minor": 4
}