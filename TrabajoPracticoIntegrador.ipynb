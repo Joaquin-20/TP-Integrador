{
 "cells": [
  {
   "cell_type": "markdown",
   "metadata": {},
   "source": [
    "\n",
    "\n",
    "\n",
    "<img src=\"TrabajoPracticoIntegrador_media/image_0.png\" width=\"541\" alt=\"image_0.png\">\n",
    "\n",
    "#### Evolucion de la temperatura a lo largo de la barra de acero en el tiempo"
   ]
  },
  {
   "cell_type": "code",
   "execution_count": 1,
   "metadata": {},
   "source": [
    "T = importdata('TempMed.mat');\n",
    "n = length(T(:,1));\n",
    "x = 0:0.05:1;\n",
    "\n",
    "for i = 1:n\n",
    "    plot(x,T(i,:),'r*')\n",
    "    title(sprintf('Temperatura en el min %d',i-1))\n",
    "    xlabel('Cordenada x(m)')\n",
    "    ylabel('Temperatura(°C)')\n",
    "    grid on\n",
    "    ylim([500 1500])\n",
    "    pause(1 -0.6)\n",
    "end"
   ],
   "outputs": [
    {
     "data": {
      "text/html": [
       "<center><img src=\"TrabajoPracticoIntegrador_media/figure_0.png\" width=\"562\" alt=\"figure_0.png\"></center>"
      ]
     },
     "metadata": {},
     "execution_count":  1,
     "output_type": "execute_result"
    }
   ]
  },
  {
   "cell_type": "code",
   "execution_count": 2,
   "metadata": {},
   "source": [
    "T = importdata('TempMed.mat');\n",
    "n = length(T(:,1));\n",
    "x = 0:0.05:1;\n",
    "t = 0:60:3600;\n",
    "\n",
    "[xx,tt] = meshgrid(x,t);\n",
    "clf\n",
    "for i = 1:n\n",
    "    TemperaturaPromedio = promedio(T(i,:));\n",
    "    hold on\n",
    "    plot(i,TemperaturaPromedio,'bo')\n",
    "    xlabel('Tiempo transcurrido (min)')\n",
    "    ylabel('Temperatura promedio (°C)')\n",
    "    hold off\n",
    "end"
   ],
   "outputs": [
    {
     "data": {
      "text/html": [
       "<center><img src=\"TrabajoPracticoIntegrador_media/figure_1.png\" width=\"562\" alt=\"figure_1.png\"></center>"
      ]
     },
     "metadata": {},
     "execution_count":  2,
     "output_type": "execute_result"
    }
   ]
  },
  {
   "cell_type": "code",
   "execution_count": 3,
   "metadata": {},
   "source": [
    "surf(xx,tt,T)\n",
    "xlabel('cordenada x (m)')\n",
    "ylabel('Tiempo transcurrido (seg)')\n",
    "zlabel('Temperatura (°C)')"
   ],
   "outputs": [
    {
     "data": {
      "text/html": [
       "<center><img src=\"TrabajoPracticoIntegrador_media/figure_2.png\" width=\"562\" alt=\"figure_2.png\"></center>"
      ]
     },
     "metadata": {},
     "execution_count":  3,
     "output_type": "execute_result"
    }
   ]
  },
  {
   "cell_type": "markdown",
   "metadata": {},
   "source": [
    "## Ajuste discreto\n",
    "\n",
    "Se propone la funcion de ajuste: $T\\left(x,t\\right)=c_1 +400\\cos \\left(c_2 x\\right)e^{-\\lambda 4\\pi 2t} +100\\cos \\left(\\frac{4\\pi *x}{L}\\right)e^{-c_3 t} \\;\\left\\lbrack \\textrm{◦C}\\right\\rbrack$ que predice la temperatura a lo largo de la barra para cada instante de tiempo, pero de desconocen las constantes $c_1 ,c_2 \\;y\\;c_3$\n",
    "\n",
    "\n",
    "Se buscaran valores para $c_1 ,c_2 \\;y\\;c_3$ que minimicen el error cuadratico medio (ECM)\n",
    "\n",
    "\n",
    "$$\\textrm{ECM}=\\frac{\\sum_{i\\;=\\;1}^{61} \\sum_{j\\;=\\;1}^{21} {\\left\\lbrack {\\mathbf{T}}_{i,j} -\\mathbf{T}\\left(x_j ,t_i ,c_1 ,c_2 ,c_3 \\right)\\right\\rbrack }^2 }{61*21}$$\n",
    "\n",
    "Los $c_1 ,c_2 \\;y\\;c_3$ que minimicen el ECM, seran los que satisfagan el siguiente sistema de ecuaciones\n",
    "\n",
    "\n",
    "$$f_1 \\;=\\;\\frac{\\partial }{\\partial c_1 }\\textrm{ECM}\\;=\\;\\frac{\\sum_{i\\;=\\;1}^{61} \\sum_{j\\;=\\;1}^{21} -2*{\\left\\lbrack {\\mathbf{T}}_{i,j} -c_1 -400\\cos \\left(c_2 x_j \\right)*e^{-\\lambda 4\\pi^2 t_i } -100\\cos \\left(\\frac{4\\pi {*x}_j }{L}\\right)*e^{-c_3 t_i } \\right\\rbrack } }{1281}=0$$\n",
    "\n",
    "$$f_2 \\;=\\;\\frac{\\partial }{\\partial c_2 }\\textrm{ECM}\\;=\\;\\frac{\\sum_{i\\;=\\;1}^{61} \\sum_{j\\;=\\;1}^{21} 800x_j *\\textrm{sen}\\left(c_2 x_j \\right)*e^{-\\lambda 4\\pi^2 t_i } \\left\\lbrack {\\mathbf{T}}_{i,j} -c_1 -400\\cos \\left(c_2 x_j \\right)*e^{-\\lambda 4\\pi^2 t_i } -100\\cos \\left(\\frac{4\\pi *x_j }{L}\\right)*e^{-c_3 t_i } \\right\\rbrack }{1281}=0$$\n",
    "\n",
    "$$f_3 \\;=\\;\\frac{\\partial }{\\partial c_3 }\\textrm{ECM}\\;=\\;\\frac{\\sum_{i\\;=\\;1}^{61} \\sum_{j\\;=\\;1}^{21} 200c_3 \\cos \\left(\\frac{4\\pi *x_j }{L}\\right)*e^{-c_3 t_i } \\left\\lbrack {\\mathbf{T}}_{i,j} -c_1 -400\\cos \\left(c_2 x_j \\right)*e^{-\\lambda 4\\pi^2 t_i } -100\\cos \\left(\\frac{4\\pi *x_j }{L}\\right)*e^{-c_3 t_i } \\right\\rbrack }{1281}=0$$\n",
    "\n",
    "\n",
    "Este sistema de ecuaciones no lineales se puede resolver mediante el metodo de Newton Raphson para sistemas de ecuaciones de la siguiente manera:\n",
    "\n",
    "\n",
    "$$\\left\\lbrack \\begin{array}{c} c_1 \\\\ c_2 \\\\ c_3  \\end{array}\\right\\rbrack \\approx \\left\\lbrack \\begin{array}{c} c_{1k} \\\\ c_{2k} \\\\ c_{3k}  \\end{array}\\right\\rbrack -\\Delta C$$\n",
    "\n",
    "$$\\;\\Delta C=\\;\\left\\lbrack \\begin{array}{ccc} \\frac{\\partial }{\\partial c_1 }f_1  & \\frac{\\partial }{\\partial c_2 }f_1  & \\frac{\\partial }{\\partial c_3 }f_1 \\\\ \\frac{\\partial }{\\partial c_1 }f_2  & \\frac{\\partial }{\\partial c_2 }f_3  & \\frac{\\partial }{\\partial c_3 }f_3 \\\\ \\frac{\\partial }{\\partial c_1 }f_3  & \\frac{\\partial }{\\partial c_3 }f_3  & \\frac{\\partial }{\\partial c_3 }f_3  \\end{array}\\right\\rbrack *\\left\\lbrack \\begin{array}{c} f_1 \\left(c_1 ,c_2 ,c_3 \\right)\\\\ f_2 \\left(c_1 ,c_2 ,c_3 \\right)\\\\ f_3 \\left(c_1 ,c_2 ,c_3 \\right) \\end{array}\\right\\rbrack$$\n",
    "\n",
    "\n",
    "La forma de calcular una derivada parcial numericamente es:\n",
    "\n",
    "\n",
    "$$\\frac{\\partial }{\\partial x_j }f_i \\approx \\frac{f_i \\left(x_1 ,\\ldotp \\ldotp \\ldotp ,x_j +\\sigma x_j ,\\ldotp \\ldotp \\ldotp ,x_n \\right)-f_i \\left(x_1 ,\\ldotp \\ldotp \\ldotp ,x_j ,\\ldotp \\ldotp \\ldotp ,x_n \\right)}{\\sigma x_j }$$\n",
    "\n",
    "donde $\\sigma x_j$ es un valor pequeño elegido arbitrariamente\n",
    "\n",
    "\n",
    "Ademas es bueno tener buenas aproccimaciones iniciales, Para esto se puede probar con distintos valores de $c_1 ,c_2 \\;\\mathrm{y}\\;c_3$ hasta qur la funcion $T\\left(x,t\\right)=c_1 +400\\cos \\left(c_2 x\\right)e^{-\\lambda 4\\pi 2t} +100\\cos \\left(\\frac{4\\pi *x}{L}\\right)e^{-c_3 t} \\;\\left\\lbrack \\textrm{◦C}\\right\\rbrack$ aproxime los datos obtenidos empiricamente.\n",
    ""
   ]
  },
  {
   "cell_type": "code",
   "execution_count": 4,
   "metadata": {},
   "source": [
    "T = importdata('TempMed.mat');\n",
    "n = length(T(:,1));\n",
    "x = 0:0.05:1;\n",
    "\n",
    "L = 1;\n",
    "alfa = 22.8*10^(-6);\n",
    "lamda = alfa/L^2;\n",
    "\n",
    "c1 =900;\n",
    "c2 =999;\n",
    "c3 = 1000;\n",
    "\n",
    "for t = 0:60:3600\n",
    "    Temp = @(x) c1 + 400.*cos(c2.*x).*exp(-lamda.*4.*t.*pi^2) + 100.*cos(4.*pi.*x./L).*exp(-c3.*t);\n",
    "\n",
    "    hold on\n",
    "    plot(x,Temp(x))\n",
    "    plot(x,T((t/60)+1,:),'r*')\n",
    "    ylim([500 1500])\n",
    "    hold off\n",
    "    pause(0.5)\n",
    "    if t ~= 3600\n",
    "        clf\n",
    "    end\n",
    "end"
   ],
   "outputs": [
    {
     "data": {
      "text/html": [
       "<center><img src=\"TrabajoPracticoIntegrador_media/figure_3.png\" width=\"562\" alt=\"figure_3.png\"></center>"
      ]
     },
     "metadata": {},
     "execution_count":  4,
     "output_type": "execute_result"
    }
   ]
  },
  {
   "cell_type": "code",
   "execution_count": 5,
   "metadata": {},
   "source": [
    "% Este bloque evalua las funciones en todos sus terminos\n",
    "t = 0:60:3600;\n",
    "J = zeros(3); % inicialización de la matriz de jacobianos\n",
    "F = zeros(3,1); % inicialización del vector de funciones\n",
    "\n",
    "dc1 = 0.5;\n",
    "dc2 = 0.5;\n",
    "dc3 = 0.5;\n",
    "Contador = 0;\n",
    "c1 = 900;\n",
    "c2 = 999;\n",
    "c3 = 1000;\n",
    "\n",
    "Tol = 0.01; Nmax = 10;\n",
    "%while any(F >= Tol) && Contador < NMax\n",
    "for k = 1:3\n",
    "    for i = 1:61\n",
    "        for j = 1:21\n",
    "\n",
    "            % Terminos generales de las sumatorias (con el 1/1281 dentro)\n",
    "            f1 = @(c1,c2,c3) ((-2*(T(i,j) - c1 - 400*cos(c2*x(j))*exp(-lamda*pi^2*4*t(i)) - 100*cos(4*pi*x(j)/L)*exp(-c3*t(i))))/1281);\n",
    "            f2 = @(c1,c2,c3) (800*x(j).*exp(-lamda*pi^2*4*t(i))*sin(c2*x(j))*(T(i,j) - c1 - 400*cos(c2*x(j))*exp(-lamda*pi^2*4*t(i)) - 100*cos(4*pi*x(j)/L)*exp(-c3*t(i))))/1281;\n",
    "            f3 = @(c1,c2,c3) (200*c3*cos(4*pi/L*x(j))*exp(-lamda*pi^2*4*t(i))*(T(i,j) - c1 - 400*cos(c2*x(j))*exp(-lamda*pi^2*4*t(i)) - 100*cos(4*pi*x(j)/L)*exp(-c3*t(i))))/1281;\n",
    "\n",
    "            %%%%%%%%%%%%%%%% Matriz de jacobianos %%%%%%%%%%%%%%%%%%\n",
    "            J(1,1) = J(1,1) + (f1(c1 + dc1,c2,c3)-f1(c1,c2,c3))/dc1;\n",
    "            J(1,2) = J(1,2) + (f1(c1,c2 + dc2,c3)-f1(c1,c2,c3))/dc2;\n",
    "            J(1,3) = J(1,3) + (f1(c1,c2,c3 + dc3)-f1(c1,c2,c3))/dc3;\n",
    "            J(2,1) = J(2,1) + (f2(c1 + dc1,c2,c3)-f2(c1,c2,c3))/dc1;\n",
    "            J(2,2) = J(2,2) + (f2(c1,c2 + dc2,c3)-f2(c1,c2,c3))/dc2;\n",
    "            J(2,3) = J(2,3) + (f2(c1,c2,c3 + dc3)-f2(c1,c2,c3))/dc3;\n",
    "            J(3,1) = J(3,1) + (f3(c1 + dc1,c2,c3)-f3(c1,c2,c3))/dc1;\n",
    "            J(3,2) = J(3,2) + (f3(c1,c2 + dc2,c3)-f3(c1,c2,c3))/dc2;\n",
    "            J(3,3) = J(3,3) + (f3(c1,c2,c3 + dc3)-f3(c1,c2,c3))/dc3;\n",
    "            %%%%%%%%%%%%%%%%%%%%%%%%%%%%%%%%%%%%%%%%%%%%%%%%%%%%%%%%\n",
    "\n",
    "            %%% Vector de funciones %%%\n",
    "            F(1) = F(1) + f1(c1,c2,c3);\n",
    "            F(2) = F(2) + f2(c1,c2,c3);\n",
    "            F(3) = F(3) + f3(c1,c2,c3);\n",
    "            %%%%%%%%%%%%%%%%%%%%%%%%%%%\n",
    "        end\n",
    "    end\n",
    "J\n",
    "    dC = J^1 * F;\n",
    "    c1 = c1 - dC(1);\n",
    "    c2 = c2 - dC(2);\n",
    "    c3 = c3 - dC(3);\n",
    "    Contador = Contador + 1;\n",
    "end"
   ],
   "outputs": [
    {
     "data": {
      "text/plain": [
       "J = 3x3    \n",
       "1.0e+05 *\n",
       "    0.0000   -0.0004         0\n",
       "   -0.0004    0.0928         0\n",
       "   -0.0286   -5.0215    0.0058\n",
       "J = 3x3    \n",
       "   NaN   NaN   NaN\n",
       "   NaN   NaN   NaN\n",
       "   NaN   NaN   NaN\n",
       "J = 3x3    \n",
       "   NaN   NaN   NaN\n",
       "   NaN   NaN   NaN\n",
       "   NaN   NaN   NaN"
      ]
     },
     "metadata": {},
     "execution_count":  5,
     "output_type": "execute_result"
    }
   ]
  },
  {
   "cell_type": "code",
   "execution_count": 6,
   "metadata": {},
   "source": [
    "c1"
   ],
   "outputs": [
    {
     "data": {
      "text/plain": [
       "c1 = NaN"
      ]
     },
     "metadata": {},
     "execution_count":  6,
     "output_type": "execute_result"
    }
   ]
  },
  {
   "cell_type": "code",
   "execution_count": 7,
   "metadata": {},
   "source": [
    "c2"
   ],
   "outputs": [
    {
     "data": {
      "text/plain": [
       "c2 = NaN"
      ]
     },
     "metadata": {},
     "execution_count":  7,
     "output_type": "execute_result"
    }
   ]
  },
  {
   "cell_type": "code",
   "execution_count": 8,
   "metadata": {},
   "source": [
    "c3"
   ],
   "outputs": [
    {
     "data": {
      "text/plain": [
       "c3 = NaN"
      ]
     },
     "metadata": {},
     "execution_count":  8,
     "output_type": "execute_result"
    }
   ]
  },
  {
   "cell_type": "code",
   "execution_count": 9,
   "metadata": {},
   "source": [
    "Contador"
   ],
   "outputs": [
    {
     "data": {
      "text/plain": [
       "Contador = 3"
      ]
     },
     "metadata": {},
     "execution_count":  9,
     "output_type": "execute_result"
    }
   ]
  },
  {
   "cell_type": "markdown",
   "metadata": {},
   "source": [
    "\n",
    "\n",
    "\n",
    "!!!EndOutputRegion!!!"
   ]
  }
 ],
 "metadata": {
  "kernelspec": {
   "display_name": "MATLAB (matlabkernel)",
   "language": "matlab",
   "name": "matlab"
  },
  "language_info": {
   "file_extension": ".m",
   "mimetype": "text/matlab",
   "name": "matlab",
   "nbconvert_exporter": "matlab",
   "pygments_lexer": "matlab",
   "version": "23.2.0.2515942"
  }
 },
 "nbformat": 4,
 "nbformat_minor": 4
}